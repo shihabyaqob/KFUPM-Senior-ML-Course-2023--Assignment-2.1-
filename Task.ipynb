{
 "cells": [
  {
   "cell_type": "code",
   "execution_count": null,
   "metadata": {},
   "outputs": [],
   "source": [
    "\"\"\" \n",
    "1\n",
    "Homework 2.1\n",
    "An Introduction to Neural Networks\n",
    "EE-491: Artificial Intelligence and Machine Learning (Spring 2023)\n",
    "OUT: March 04, 2023\n",
    "DUE: March 18, 2023, 11:59 PM\n",
    "Start Here\n",
    "• Collaboration policy:\n",
    "– You are expected to comply with the University Policy on Academic Integrity and Plagiarism.\n",
    "– You are allowed to talk with / work with other students on homework assignments.\n",
    "– You can share ideas but not code, you must submit your own code. All submitted code will be\n",
    "compared against all code submitted this semester and in previous semesters using MOSS.\n",
    "• Overview:\n",
    "– This section of the homework is an open-ended competition hosted on Kaggle.com, a popular service\n",
    "for hosting predictive modelling and data analytics competitions. The competition page can be found\n",
    "here.\n",
    "• Submission:\n",
    "– See this for details.\n",
    "1 Part 2:\n",
    "This part of the homework is a live competition on kaggle.\n",
    "In this challenge you will take your knowledge of feedforward neural networks and apply it to a more useful\n",
    "task than recognizing handwritten digits: image classification. You are provided a dataset of standard sized\n",
    "images and their labels as a table.\n",
    "Data\n",
    "• fashion-mnist_train.csv: (60000, 785)\n",
    "• fashion-mnist_test.csv: (10000, 785)\n",
    "1.1 Task\n",
    "Your task is to generate predictions for the images of the test set. You will be evaluated on the accuracy of the\n",
    "prediction of the labels in the test set. Grade cut-offs are released after the early deadline. For detailed\n",
    "information, please look at the kaggle page.\n",
    "2\n",
    "1.2 Data Files\n",
    "You can find the training and test data under the ’Data’ tab on Kaggle.\n",
    "1.3 Evaluation Metric\n",
    "The evaluation metric for this competition is accuracy. You will be ranked by unweighted accuracy on those\n",
    "labels.\n",
    "1.4 Submission Format\n",
    "Submission files should contain two columns: Id and Label.\n",
    "Id: The 0-based index of the frame in the test set [0-9999] (data type: int).\n",
    "Label: The predicted label of the phoneme [0-9] (data type: int).\n",
    "A sample submission file is available on the Data page on Kaggle. Please submit your prediction/submission\n",
    "files. You will be allowed a maximum of 10 submissions every day.\n",
    "You need to make at least one submission (of prediction file csv) to Kaggle before the early deadline.\n",
    "Yor code should be submitted in “.ipynb” or notebook format on blackboard.\n",
    "Good luck!\n",
    "\n",
    " \"\"\""
   ]
  },
  {
   "cell_type": "code",
   "execution_count": 1,
   "metadata": {},
   "outputs": [],
   "source": [
    "# Import libraries\n",
    "from sklearn.metrics import confusion_matrix, f1_score, accuracy_score, classification_report, roc_auc_score\n",
    "from sklearn.model_selection import train_test_split\n",
    "from sklearn.base import BaseEstimator\n",
    "from sklearn.model_selection import GridSearchCV\n",
    "from sklearn.pipeline import Pipeline\n",
    "from sklearn.decomposition import PCA\n",
    "import seaborn as sns\n",
    "import pandas as pd\n",
    "import numpy as np\n",
    "import matplotlib.pyplot as plt\n",
    "\n"
   ]
  },
  {
   "cell_type": "code",
   "execution_count": null,
   "metadata": {},
   "outputs": [],
   "source": [
    "# Lead train and test datasets\n",
    "train = pd.read_csv('fashion-mnist_train.csv')\n",
    "test = pd.read_csv('fashion-mnist_test.csv')"
   ]
  }
 ],
 "metadata": {
  "kernelspec": {
   "display_name": "Python 3",
   "language": "python",
   "name": "python3"
  },
  "language_info": {
   "codemirror_mode": {
    "name": "ipython",
    "version": 3
   },
   "file_extension": ".py",
   "mimetype": "text/x-python",
   "name": "python",
   "nbconvert_exporter": "python",
   "pygments_lexer": "ipython3",
   "version": "3.9.7"
  },
  "orig_nbformat": 4
 },
 "nbformat": 4,
 "nbformat_minor": 2
}
